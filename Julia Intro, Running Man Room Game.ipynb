{
 "cells": [
  {
   "cell_type": "markdown",
   "metadata": {},
   "source": [
    "# ECON 514 Julia Tutorial"
   ]
  },
  {
   "cell_type": "markdown",
   "metadata": {},
   "source": [
    "Couple of things before we start. If this kind of coding is new to you (i.e. not straight up using one line from packages like Stata or some of R), in my experience I found several things quite useful.\n",
    "\n",
    "- Try to change my code and see what works or what breaks. Does it do what you intend it to?\n",
    "- If there is a block of code that does not run or is not giving what you expected, maybe use @show to check out what specific steps are doing. You can also do this if there are lines for which you are not sure what they are doing.\n",
    "- A significant part of knowing how to code is knowing how to google.\n",
    "- There is a ton of Julia documentation available online. They are mostly readable, so give it a go if you are stuck.\n",
    "\n",
    "\n",
    "This tutorial is not an exhaustive guide to Julia. You are not meant to be able to right away solve problems. This tutorial is meant to give you some idea of\n",
    "\n",
    "- what a function is\n",
    "- how they fit together to do stuff\n",
    "- solve a system of equations in SymPy\n",
    "- pickup some syntax(?)\n",
    "\n",
    "We are going to do this by solving a game from Running Man, a Korean gameshow.\n",
    "\n",
    "## Problem (Copied from Mike's message on Discord)\n",
    "\n",
    "There are 8 rooms and 8 contestants.  Each person must choose to go to one of the rooms (assume the choice is once for all and each person decides simultaneously).  Once everyone is in their room, a prize in each room is split among all the players in that room.  The prize is room 1 is 40K (won I assume), the prize in rooms 2,3 and 4 is 50K won, the prize in rooms 5,6 and 7 is 70K won, while the prize in room 8 is 100K won. So if all 8 people go to room 8, each of them will get 100/8 K won. We want to\n",
    "\n",
    "### i) Find a pure strategy equilibrium\n",
    "\n",
    "### ii) Find the unique symmetric mixed equilibrium.\n"
   ]
  },
  {
   "cell_type": "markdown",
   "metadata": {},
   "source": [
    "We start by defining some parameters."
   ]
  },
  {
   "cell_type": "code",
   "execution_count": 1,
   "metadata": {},
   "outputs": [
    {
     "name": "stdout",
     "output_type": "stream",
     "text": [
      "valuations[2] = 50\n"
     ]
    },
    {
     "data": {
      "text/plain": [
       "\"Wednesday 8:30 class...\""
      ]
     },
     "execution_count": 1,
     "metadata": {},
     "output_type": "execute_result"
    }
   ],
   "source": [
    "valuations = [40,50,50,50,70,70,70,100] \n",
    "options = 1:1:8\n",
    "\n",
    "# These are arrays/vetors. Note that they have square brackets. If we use normal brackets, \n",
    "# they become a list of objects (\"tuples\"). For example,\n",
    "\n",
    "tup = (1,\"Wednesday 8:30 class...\",[1 3 2;1 2 3])\n",
    "\n",
    "# On one hand they do have something in common. To access the second element of say valuations, we can do \n",
    "\n",
    "@show valuations[2]\n",
    "tup[2]"
   ]
  },
  {
   "cell_type": "markdown",
   "metadata": {},
   "source": [
    "At other times they have to be handled quite differently. For arrays of numbers, we can do calculations. Note that the default operation is linear algebraic. In R, when you have an array and you do something like valuations^2, you will square each element. Here, it will not make sense. Instead, we have to put a dot to say that we want to apply a function element-by-element. \n",
    "\n",
    "This will NOT run\n",
    "\n",
    "       valuations^2"
   ]
  },
  {
   "cell_type": "code",
   "execution_count": 2,
   "metadata": {},
   "outputs": [
    {
     "name": "stdout",
     "output_type": "stream",
     "text": [
      "valuations .^ 2 = [1600, 2500, 2500, 2500, 4900, 4900, 4900, 10000]\n"
     ]
    },
    {
     "data": {
      "text/plain": [
       "33800"
      ]
     },
     "execution_count": 2,
     "metadata": {},
     "output_type": "execute_result"
    }
   ],
   "source": [
    "# Element by Element\n",
    "@show valuations.^2\n",
    "\n",
    "# v' means v transpose. Therefore this is the dot product with itself\n",
    "valuations' * valuations"
   ]
  },
  {
   "cell_type": "markdown",
   "metadata": {},
   "source": [
    "In general, stuff like multiplication and addition with tuples will not work. However, functions may work depending on how they are written."
   ]
  },
  {
   "cell_type": "code",
   "execution_count": 3,
   "metadata": {
    "scrolled": true
   },
   "outputs": [
    {
     "name": "stdout",
     "output_type": "stream",
     "text": [
      "typeof(a) = Tuple{Int64, Int64, Int64}\n"
     ]
    },
    {
     "ename": "LoadError",
     "evalue": "MethodError: no method matching adjoint(::Tuple{Int64, Int64, Int64})\n\u001b[0mClosest candidates are:\n\u001b[0m  adjoint(\u001b[91m::LinearAlgebra.LQ\u001b[39m) at C:\\buildbot\\worker\\package_win64\\build\\usr\\share\\julia\\stdlib\\v1.6\\LinearAlgebra\\src\\lq.jl:123\n\u001b[0m  adjoint(\u001b[91m::LinearAlgebra.LU\u001b[39m) at C:\\buildbot\\worker\\package_win64\\build\\usr\\share\\julia\\stdlib\\v1.6\\LinearAlgebra\\src\\lu.jl:75\n\u001b[0m  adjoint(\u001b[91m::LinearAlgebra.Rotation\u001b[39m) at C:\\buildbot\\worker\\package_win64\\build\\usr\\share\\julia\\stdlib\\v1.6\\LinearAlgebra\\src\\givens.jl:58\n\u001b[0m  ...",
     "output_type": "error",
     "traceback": [
      "MethodError: no method matching adjoint(::Tuple{Int64, Int64, Int64})\n\u001b[0mClosest candidates are:\n\u001b[0m  adjoint(\u001b[91m::LinearAlgebra.LQ\u001b[39m) at C:\\buildbot\\worker\\package_win64\\build\\usr\\share\\julia\\stdlib\\v1.6\\LinearAlgebra\\src\\lq.jl:123\n\u001b[0m  adjoint(\u001b[91m::LinearAlgebra.LU\u001b[39m) at C:\\buildbot\\worker\\package_win64\\build\\usr\\share\\julia\\stdlib\\v1.6\\LinearAlgebra\\src\\lu.jl:75\n\u001b[0m  adjoint(\u001b[91m::LinearAlgebra.Rotation\u001b[39m) at C:\\buildbot\\worker\\package_win64\\build\\usr\\share\\julia\\stdlib\\v1.6\\LinearAlgebra\\src\\givens.jl:58\n\u001b[0m  ...",
      "",
      "Stacktrace:",
      " [1] top-level scope",
      "   @ In[3]:6",
      " [2] eval",
      "   @ .\\boot.jl:360 [inlined]",
      " [3] include_string(mapexpr::typeof(REPL.softscope), mod::Module, code::String, filename::String)",
      "   @ Base .\\loading.jl:1116"
     ]
    }
   ],
   "source": [
    "a = (1,2,3)\n",
    "b = (4,5,6)\n",
    "\n",
    "@show typeof(a)\n",
    "\n",
    "a'*b"
   ]
  },
  {
   "cell_type": "markdown",
   "metadata": {},
   "source": [
    "\n",
    "\n",
    "\n",
    "We solve for pure NE using the following algorithm. \n",
    "\n",
    "(i) Start off by placing all of them in one room. \n",
    "\n",
    "(ii) In each round, we let players 1 to 8 move in turn into rooms that maximize their own payoff given others' current position. \n",
    "\n",
    "(iii) Repeat (ii) until nobody wants to move.\n",
    "\n",
    "\n",
    "To implement step 2, we need to calculate how strategies map to payoffs, and figure out the best responses."
   ]
  },
  {
   "cell_type": "code",
   "execution_count": 4,
   "metadata": {},
   "outputs": [
    {
     "data": {
      "text/plain": [
       "room_population (generic function with 1 method)"
      ]
     },
     "execution_count": 4,
     "metadata": {},
     "output_type": "execute_result"
    }
   ],
   "source": [
    "function room_population(s)\n",
    "\n",
    "    \"\"\" \n",
    "        Input: s = vector of dimension 8x1. Each component is an integer from 1 to 8 representating a player's room choice.\n",
    "\n",
    "        Output: pop = vector of dimension 8x1 representing the number of people in each room \n",
    "    \"\"\"\n",
    "    \n",
    "    pop = zeros(8)\n",
    "\n",
    "    for i =1:8\n",
    "        pop[i] = sum(s.==i)\n",
    "    end\n",
    "\n",
    "    return pop\n",
    "end"
   ]
  },
  {
   "cell_type": "code",
   "execution_count": 5,
   "metadata": {},
   "outputs": [
    {
     "name": "stdout",
     "output_type": "stream",
     "text": [
      "3 == 2 = false\n",
      "[1, 2, 3] == 2 = false\n",
      "s .== 1 = Bool[1, 1, 0, 0, 0, 0, 0, 0]\n"
     ]
    },
    {
     "data": {
      "text/plain": [
       "8-element Vector{Float64}:\n",
       " 2.0\n",
       " 1.0\n",
       " 1.0\n",
       " 1.0\n",
       " 0.0\n",
       " 1.0\n",
       " 1.0\n",
       " 1.0"
      ]
     },
     "execution_count": 5,
     "metadata": {},
     "output_type": "execute_result"
    }
   ],
   "source": [
    "@show 3 == 2\n",
    "@show [1,2,3] == 2\n",
    "\n",
    "s = [1,1,2,3,4,6,7,8]\n",
    "\n",
    "@show s.==1\n",
    "\n",
    "room_population(s)"
   ]
  },
  {
   "cell_type": "code",
   "execution_count": 7,
   "metadata": {},
   "outputs": [
    {
     "name": "stdout",
     "output_type": "stream",
     "text": [
      "typeof(payoff_from_room) = Matrix{Float64}\n",
      "payoff_vector = [20.0, 20.0, 50.0, 50.0, 50.0, 70.0, 70.0, 100.0]\n"
     ]
    },
    {
     "data": {
      "text/plain": [
       "8×8 Matrix{Float64}:\n",
       " 20.0   0.0   0.0   0.0  0.0   0.0   0.0    0.0\n",
       " 20.0   0.0   0.0   0.0  0.0   0.0   0.0    0.0\n",
       "  0.0  50.0   0.0   0.0  0.0   0.0   0.0    0.0\n",
       "  0.0   0.0  50.0   0.0  0.0   0.0   0.0    0.0\n",
       "  0.0   0.0   0.0  50.0  0.0   0.0   0.0    0.0\n",
       "  0.0   0.0   0.0   0.0  0.0  70.0   0.0    0.0\n",
       "  0.0   0.0   0.0   0.0  0.0   0.0  70.0    0.0\n",
       "  0.0   0.0   0.0   0.0  0.0   0.0   0.0  100.0"
      ]
     },
     "execution_count": 7,
     "metadata": {},
     "output_type": "execute_result"
    }
   ],
   "source": [
    "function purepayoff(s) \n",
    "\n",
    "    \"\"\" \n",
    "        Input: s = vector of dimension 8x1. Each component is an integer from 1 to 8 representating a player's room choice.\n",
    "\n",
    "        Output: payoff_from_rooms = 8x8 matrix. ith column represents players payoffs from room i\n",
    "                payoff = vector of dimension 8x1 each representating the payoff of players\n",
    "\n",
    "    \"\"\"\n",
    "\n",
    "    pop = room_population(s)   \n",
    "    payoff_from_rooms = zeros(8,8)\n",
    "\n",
    "    for i =1:8\n",
    "        # payoff_from_rooms[:,i] = valuations[i]/pop[i] * (s==i)  # This is wrong\n",
    "        payoff_from_rooms[:,i] = valuations[i]/pop[i] * (s.==i)\n",
    "    end\n",
    "\n",
    "    payoff = (sum(payoff_from_rooms,dims = 2))[:,1]\n",
    "    \n",
    "    return payoff_from_rooms , payoff\n",
    "end\n",
    "\n",
    "function purepayoff(si,s_noti) \n",
    "    s = vcat(si,s_noti)\n",
    "    return purepayoff(s)[2]\n",
    "end\n",
    "\n",
    "payoff_from_room,payoff_vector = purepayoff(s)\n",
    "\n",
    "@show typeof(payoff_from_room)\n",
    "@show payoff_vector\n",
    "\n",
    "payoff_from_room\n"
   ]
  },
  {
   "cell_type": "markdown",
   "metadata": {},
   "source": [
    "Once we have the payoff function, we can see what the best response is by checking the payoff of each action, and pick the best one."
   ]
  },
  {
   "cell_type": "code",
   "execution_count": 9,
   "metadata": {},
   "outputs": [
    {
     "data": {
      "text/plain": [
       "(5, 3)"
      ]
     },
     "execution_count": 9,
     "metadata": {},
     "output_type": "execute_result"
    }
   ],
   "source": [
    "function BR(s_noti) \n",
    "    f(x) = purepayoff(x,s_noti)[1]\n",
    "    rooms = 1:1:8\n",
    "    payoffs = f.(rooms)\n",
    "    br_payoff,br = findmax(payoffs)\n",
    "    return br_payoff,br\n",
    "end\n",
    "\n",
    "A = [1,3,5,5,2,5,1]\n",
    "findmax(A)"
   ]
  },
  {
   "cell_type": "code",
   "execution_count": 10,
   "metadata": {},
   "outputs": [
    {
     "name": "stdout",
     "output_type": "stream",
     "text": [
      "typeof(output) = Tuple{Float64, Int64}\n",
      "output[1] = 100.0\n"
     ]
    },
    {
     "data": {
      "text/plain": [
       "8"
      ]
     },
     "execution_count": 10,
     "metadata": {},
     "output_type": "execute_result"
    }
   ],
   "source": [
    "output = BR([1,2,3,4,5,6,7])\n",
    "@show typeof(output)\n",
    "\n",
    "@show output[1]\n",
    "output[2]"
   ]
  },
  {
   "cell_type": "markdown",
   "metadata": {},
   "source": [
    "Since now that given other player's strategy, we know what is the best response payoff, we can check if a player's action is a best response."
   ]
  },
  {
   "cell_type": "code",
   "execution_count": 16,
   "metadata": {},
   "outputs": [
    {
     "data": {
      "text/plain": [
       "(false, 100.0)"
      ]
     },
     "execution_count": 16,
     "metadata": {},
     "output_type": "execute_result"
    }
   ],
   "source": [
    "function is_BR(si,s_noti)\n",
    "    \"\"\"\n",
    "    Input: si = strategy of the player we want to check\n",
    "           s_noti = strategy of other players. Vector!\n",
    "\n",
    "    Output: check = Boolean whether player is playing BR\n",
    "            br_payoff = player's BR payoff\n",
    "    \"\"\"\n",
    "    \n",
    "    br_payoff,br = BR(s_noti)\n",
    "    check = (purepayoff(si,s_noti)[1] == br_payoff)\n",
    "    return check, br_payoff\n",
    "end\n",
    "\n",
    "is_BR(2,[1,3,4,3,5,6,7])"
   ]
  },
  {
   "cell_type": "markdown",
   "metadata": {},
   "source": [
    "We now have what we need to do step 2. "
   ]
  },
  {
   "cell_type": "code",
   "execution_count": 17,
   "metadata": {},
   "outputs": [
    {
     "data": {
      "text/plain": [
       "([2, 8, 4, 5, 6, 2, 4, 7], true)"
      ]
     },
     "execution_count": 17,
     "metadata": {},
     "output_type": "execute_result"
    }
   ],
   "source": [
    "function player_move(s,k)\n",
    "    \"\"\"\n",
    "    Input: s = current strategy of players\n",
    "           k = which player is currently allowed to move\n",
    "    \n",
    "    Output: s = updated strategy of players after player k's turn\n",
    "            move = Boolean whether player k has moved\n",
    "    \"\"\"\n",
    "\n",
    "    si = s[k]\n",
    "    s_noti = s[1:end .!=k]\n",
    "\n",
    "    check = is_BR(si,s_noti)[1]\n",
    "\n",
    "    if check == true\n",
    "        move = false\n",
    "    else\n",
    "        s[k] = BR(s_noti)[2]\n",
    "        move = true\n",
    "    end\n",
    "\n",
    "    return s,move\n",
    "end\n",
    "\n",
    "player_move([2,3,4,5,6,2,4,7],2)\n",
    "\n",
    "        "
   ]
  },
  {
   "cell_type": "code",
   "execution_count": 19,
   "metadata": {},
   "outputs": [
    {
     "name": "stdout",
     "output_type": "stream",
     "text": [
      "room_population(sln) = [0.0, 1.0, 1.0, 1.0, 1.0, 1.0, 1.0, 2.0]\n"
     ]
    },
    {
     "data": {
      "text/plain": [
       "8-element Vector{Float64}:\n",
       " 50.0\n",
       " 70.0\n",
       " 70.0\n",
       " 70.0\n",
       " 50.0\n",
       " 50.0\n",
       " 50.0\n",
       " 50.0"
      ]
     },
     "execution_count": 19,
     "metadata": {},
     "output_type": "execute_result"
    }
   ],
   "source": [
    "function pureNE_search(s0)\n",
    "    stable = false\n",
    "    count = 0\n",
    "    while stable == false\n",
    "        moves = ones(8)\n",
    "\n",
    "        for i = 1:8\n",
    "            s,moves[i] = player_move(s0,i)\n",
    "            s0 = s\n",
    "        end\n",
    "\n",
    "        stable = (maximum(moves)==0)\n",
    "        count = count+1\n",
    "    end\n",
    "    return s0,count\n",
    "end\n",
    "\n",
    "#s0 = [8,8,8,8,8,8,8,8]\n",
    "s0 = [1,1,1,1,1,1,1,1]\n",
    "        \n",
    "sln = pureNE_search(s0)[1]\n",
    "\n",
    "@show room_population(sln)\n",
    "purepayoff(sln)[2]"
   ]
  },
  {
   "cell_type": "markdown",
   "metadata": {},
   "source": [
    "To fixed symmetric mixed equilibrium, suppose the probabilites are denoted \n",
    "\n",
    "$$\n",
    "p = (p_1,p_2,p_3,p_4,p_5,p_6,p_7,p_8)\n",
    "$$\n",
    "\n",
    "In the set of i such that $p_i>0$, it has to be that any two actions in that set give the same expected payoff when others are playing mixed strategy p. Now, the expected payoff from choosing room i is\n",
    "\n",
    "$$\n",
    "   \\overset{7}{\\underset{j=0}{\\sum}} \\frac{v_i}{1+j}\\times C^7_j (1-p_i)^{7-j}p_i^j\n",
    "$$\n",
    "\n",
    "Therefore, if the equilibrium has m non-zero probabilities, then we have m-1 equalities. Since the probabilites have to sum to 1, we have m-1 unknowns, hence there exists a unique solution. For this to be a mixed equilibrium, we also require that the expected payoff above is greater than playing actions that have probabiity 0."
   ]
  },
  {
   "cell_type": "code",
   "execution_count": 36,
   "metadata": {},
   "outputs": [
    {
     "data": {
      "text/latex": [
       "$\\left[ \\begin{array}{r}0.0005900395709166406840137419570967888870576042685833651064880671073501502121675\\\\0.06553637288318371000730577629947820555476889335433512302866178831665458158983\\\\0.06553637288318371000730577629947820555476889335433512302866178831665458158983\\\\0.06553637288318371000730577629947820555476889335433512302866178831665458158983\\\\0.1696779680897165722324230717817383914913708924507470226023318700539585865871\\\\0.1696779680897165722324230717817383914913708924507470226023318700539585865871\\\\0.1696779680897165722324230717817383914913708924507470226023318700539585865871\\\\0.293766937510382512596799713799253419974523038316170198000530957780810345257\\end{array}\\right]$\n"
      ],
      "text/plain": [
       "8×1 Matrix{Sym}:\n",
       " 0.0005900395709166406840137419570967888870576042685833651064880671073501502121675\n",
       "   0.06553637288318371000730577629947820555476889335433512302866178831665458158983\n",
       "   0.06553637288318371000730577629947820555476889335433512302866178831665458158983\n",
       "   0.06553637288318371000730577629947820555476889335433512302866178831665458158983\n",
       "    0.1696779680897165722324230717817383914913708924507470226023318700539585865871\n",
       "    0.1696779680897165722324230717817383914913708924507470226023318700539585865871\n",
       "    0.1696779680897165722324230717817383914913708924507470226023318700539585865871\n",
       "    0.2937669375103825125967997137992534199745230383161701980005309577808103452570"
      ]
     },
     "execution_count": 36,
     "metadata": {},
     "output_type": "execute_result"
    }
   ],
   "source": [
    "using SymPy\n",
    "\n",
    "v,p,p1,p2,p3,p4,p5,p6,p7,p8 = symbols(\"v,p,p1 p2 p3 p4 p5 p6 p7 p8\")\n",
    "\n",
    "EU = sum( v/(1+j)* binomial(7,j)* (1-p)^(7-j)* p^j for j in 0:7);\n",
    "\n",
    "EU1 = EU(p=>p1,v=>valuations[1])\n",
    "EU2 = EU(p=>p2,v=>valuations[2])\n",
    "EU3 = EU(p=>p3,v=>valuations[3])\n",
    "EU4 = EU(p=>p4,v=>valuations[4])\n",
    "EU5 = EU(p=>p5,v=>valuations[5])\n",
    "EU6 = EU(p=>p6,v=>valuations[6])\n",
    "EU7 = EU(p=>p7,v=>valuations[7])\n",
    "EU8 = EU(p=>p8,v=>valuations[8])\n",
    "\n",
    "solution = sympy.nsolve((EU2-EU1,EU2-EU3, EU2-EU4, EU2-EU5, EU2-EU6,EU2-EU7,EU2-EU8,1-p1-p2-p3-p4-p5-p6-p7-p8),(p1,p2,p3,p4,p5,p6,p7,p8),(1,1,1,1,1,1,1,1))"
   ]
  },
  {
   "cell_type": "markdown",
   "metadata": {},
   "source": [
    "Let's look at the expected payoff."
   ]
  },
  {
   "cell_type": "code",
   "execution_count": 37,
   "metadata": {},
   "outputs": [
    {
     "name": "stdout",
     "output_type": "stream",
     "text": [
      "EU1(solution[1]) = 39.91749186928315296783317169561232120969394345019627455584857319182604343673\n",
      "EU2(solution[2]) = 39.91749186928315296783317169561232120969394345019627455584857319182604343673\n",
      "EU3(solution[3]) = 39.91749186928315296783317169561232120969394345019627455584857319182604343673\n",
      "EU4(solution[4]) = 39.91749186928315296783317169561232120969394345019627455584857319182604343673\n",
      "EU5(solution[5]) = 39.91749186928315296783317169561232120969394345019627455584857319182604343673\n",
      "EU6(solution[6]) = 39.91749186928315296783317169561232120969394345019627455584857319182604343673\n",
      "EU7(solution[7]) = 39.91749186928315296783317169561232120969394345019627455584857319182604343673\n",
      "EU8(solution[8]) = 39.91749186928315296783317169561232120969394345019627455584857319182604343673\n"
     ]
    },
    {
     "data": {
      "text/latex": [
       "$\\begin{equation*}39.91749186928315296783317169561232120969394345019627455584857319182604343673\\end{equation*}$\n"
      ],
      "text/plain": [
       "39.91749186928315296783317169561232120969394345019627455584857319182604343673"
      ]
     },
     "execution_count": 37,
     "metadata": {},
     "output_type": "execute_result"
    }
   ],
   "source": [
    "@show EU1(solution[1])\n",
    "@show EU2(solution[2])\n",
    "@show EU3(solution[3])\n",
    "@show EU4(solution[4])\n",
    "@show EU5(solution[5])\n",
    "@show EU6(solution[6])\n",
    "@show EU7(solution[7])\n",
    "@show EU8(solution[8])"
   ]
  },
  {
   "cell_type": "markdown",
   "metadata": {},
   "source": [
    "Suppose we want to see if there is an equilibrium where players only mix between room 2-8. "
   ]
  },
  {
   "cell_type": "code",
   "execution_count": 38,
   "metadata": {},
   "outputs": [
    {
     "name": "stdout",
     "output_type": "stream",
     "text": [
      "EU2(solution[1]) = 39.90698417785192965555710132508902709270987682969983827549323312327389406646\n",
      "EU3(solution[2]) = 39.90698417785192965555710132508902709270987682969983827549323312327389406646\n",
      "EU4(solution[3]) = 39.90698417785192965555710132508902709270987682969983827549323312327389406646\n",
      "EU5(solution[4]) = 39.90698417785192965555710132508902709270987682969983827549323312327389406646\n",
      "EU6(solution[5]) = 39.90698417785192965555710132508902709270987682969983827549323312327389406646\n",
      "EU7(solution[6]) = 39.90698417785192965555710132508902709270987682969983827549323312327389406646\n",
      "EU8(solution[7]) = 39.90698417785192965555710132508902709270987682969983827549323312327389406646\n",
      "EU1(0) = 40\n"
     ]
    },
    {
     "data": {
      "text/latex": [
       "$\\begin{equation*}40\\end{equation*}$\n"
      ],
      "text/plain": [
       "40"
      ]
     },
     "execution_count": 38,
     "metadata": {},
     "output_type": "execute_result"
    }
   ],
   "source": [
    "solution = sympy.nsolve((EU2-EU3, EU2-EU4, EU2-EU5, EU2-EU6,EU2-EU7,EU2-EU8,1-p2-p3-p4-p5-p6-p7-p8),(p2,p3,p4,p5,p6,p7,p8),(1,1,1,1,1,1,1))\n",
    "\n",
    "@show EU2(solution[1])\n",
    "@show EU3(solution[2])\n",
    "@show EU4(solution[3])\n",
    "@show EU5(solution[4])\n",
    "@show EU6(solution[5])\n",
    "@show EU7(solution[6])\n",
    "@show EU8(solution[7])\n",
    "\n",
    "@show EU1(0)"
   ]
  },
  {
   "cell_type": "markdown",
   "metadata": {},
   "source": [
    "The expected payoff by deviating to room 1 is 40, which is higher than any actions we are mixing over. So this is not an equilibrium."
   ]
  },
  {
   "cell_type": "code",
   "execution_count": null,
   "metadata": {},
   "outputs": [],
   "source": [
    "function is_eqm(s)\n",
    "    check = zeros(8)\n",
    "    for i = 1:8\n",
    "        s_i = s[i]\n",
    "        s_noti = s[1:end .!=i]\n",
    "        check[i] = is_BR(s_i,s_noti)[1]\n",
    "    end\n",
    "    return (minimum(check)==1)\n",
    "end\n",
    "\n",
    "is_eqm([8,2,3,4,5,6,7,8])"
   ]
  },
  {
   "cell_type": "code",
   "execution_count": null,
   "metadata": {},
   "outputs": [
    {
     "name": "stdout",
     "output_type": "stream",
     "text": [
      "Did not find any eqm.\n"
     ]
    }
   ],
   "source": [
    "function brute_search(S;k=10000)\n",
    "    count = 0\n",
    "    found = false\n",
    "    for i in eachindex(S)  \n",
    "                cs = S[i]       \n",
    "                check = is_eqm(cs)\n",
    "                count = count+1\n",
    "\n",
    "                if check == true\n",
    "                    return cs\n",
    "                end\n",
    "\n",
    "    end  \n",
    "    println(\"Did not find any eqm.\")\n",
    "end\n",
    "\n",
    "\"\"\"\n",
    "We can ues this to search over alll possible combinations of strategies. We can set\n",
    "   full_S = [[x1,x2,x3,x4,x5,x6,x7,x8] for x1 in 1:8 for x2 in 1:8 for x3 in 1:8 for x4 in 1:8 for x5 in 1:8 for x6 in 1:8 for x7 in 1:8 for x8 in 1:8]\n",
    "\n",
    "Then run\n",
    "  search(full_S)\n",
    "\n",
    "But this will take a very long time.\n",
    "\"\"\"\n",
    "\n",
    "function gen_candidates(n)\n",
    "    candidates = [rand(1:8,8)]\n",
    "    count = 1\n",
    "    for i=2:n\n",
    "        candidates = vcat(candidates,[rand(1:8,8)])\n",
    "    end\n",
    "    return candidates\n",
    "end\n",
    "\n",
    "n = 1000\n",
    "\n",
    "candidates = gen_candidates(n);\n",
    "\n",
    "brute_search(candidates;k=10000)\n"
   ]
  },
  {
   "cell_type": "markdown",
   "metadata": {},
   "source": [
    "The probability of successfully finding a NE with n"
   ]
  },
  {
   "cell_type": "code",
   "execution_count": null,
   "metadata": {},
   "outputs": [
    {
     "ename": "LoadError",
     "evalue": "UndefVarError: n not defined",
     "output_type": "error",
     "traceback": [
      "UndefVarError: n not defined\n",
      "\n",
      "Stacktrace:\n",
      " [1] top-level scope\n",
      "   @ In[47]:2\n",
      " [2] eval\n",
      "   @ .\\boot.jl:360 [inlined]\n",
      " [3] include_string(mapexpr::typeof(REPL.softscope), mod::Module, code::String, filename::String)\n",
      "   @ Base .\\loading.jl:1116"
     ]
    }
   ],
   "source": [
    "p = (factorial(8)/2)/(8^8)\n",
    "(1-p)^n"
   ]
  }
 ],
 "metadata": {
  "kernelspec": {
   "display_name": "Julia 1.6.2",
   "language": "julia",
   "name": "julia-1.6"
  },
  "language_info": {
   "file_extension": ".jl",
   "mimetype": "application/julia",
   "name": "julia",
   "version": "1.6.2"
  }
 },
 "nbformat": 4,
 "nbformat_minor": 2
}
